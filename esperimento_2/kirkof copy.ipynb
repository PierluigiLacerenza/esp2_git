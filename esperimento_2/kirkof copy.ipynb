{
 "cells": [
  {
   "cell_type": "code",
   "execution_count": 84,
   "metadata": {},
   "outputs": [],
   "source": [
    "import numpy as np\n",
    "import networkx as nx\n",
    "import sympy as sp"
   ]
  },
  {
   "cell_type": "code",
   "execution_count": 85,
   "metadata": {},
   "outputs": [
    {
     "name": "stdout",
     "output_type": "stream",
     "text": [
      "['B', 'C', 'D']\n"
     ]
    }
   ],
   "source": [
    "circuito = nx.Graph()\n",
    "\n",
    "# Aggiunta dei nodi (punti di connessione) 10M\n",
    "circuito.add_nodes_from([\"A\", \"B\", \"C\", \"D\",\"E\"])  # Nodi del circuito\n",
    "R1=198.8\n",
    "R2=1193\n",
    "R3=297\n",
    "R4= (R2/R1)*R3\n",
    "R5=10 * 10**9\n",
    "R0=0.1\n",
    "resistenze = {\n",
    "    (\"A\",\"B\"): R1,\n",
    "    (\"A\",\"C\"): R3,\n",
    "    (\"C\",\"B\"): R5,\n",
    "    (\"B\",\"D\"): R2,\n",
    "    (\"C\",\"D\"): R4,     \n",
    "    (\"D\",\"E\"): R0\n",
    "     \n",
    "}\n",
    "\n",
    "\n",
    "for (n1, n2), r in resistenze.items():\n",
    "    circuito.add_edge(n1, n2, resistance=r)\n",
    "\n",
    "generatori = {\n",
    "    \"A\": 3,  \n",
    "    \n",
    "    \"E\":0   \n",
    "}\n",
    "nodi_variabili = [n for n in circuito.nodes if n not in generatori]\n",
    "print(nodi_variabili)"
   ]
  },
  {
   "cell_type": "code",
   "execution_count": 86,
   "metadata": {},
   "outputs": [
    {
     "name": "stdout",
     "output_type": "stream",
     "text": [
      "0 B\n",
      "1 C\n",
      "2 D\n",
      "[[ 5.86840415e-03 -1.00000000e-10 -8.38222967e-04]\n",
      " [-1.00000000e-10  3.92807662e-03 -5.61073151e-04]\n",
      " [-8.38222967e-04 -5.61073151e-04  1.00013993e+01]]\n",
      "[0.01509054 0.01010101 0.        ]\n"
     ]
    }
   ],
   "source": [
    "n = len(nodi_variabili)\n",
    "Y = np.zeros((n, n))\n",
    "I = np.zeros(n)\n",
    "\n",
    "\n",
    "#costruzione della matrice\n",
    "for i, nodo in enumerate(nodi_variabili):\n",
    "    print(i,nodo)\n",
    "    somma_ammettenze = 0\n",
    "    \n",
    "    for vicino in circuito.neighbors(nodo):\n",
    "        R = circuito[nodo][vicino]['resistance']\n",
    "        G = 1 / R  # Ammettenza G = 1/R\n",
    "        \n",
    "        if vicino in nodi_variabili:\n",
    "            j = nodi_variabili.index(vicino)\n",
    "            Y[i, j] -= G  # Termini fuori diagonale\n",
    "        \n",
    "        elif vicino in generatori:\n",
    "            I[i] += G * generatori[vicino]  # Termini di corrente\n",
    "        \n",
    "        somma_ammettenze += G\n",
    "    \n",
    "    Y[i, i] = somma_ammettenze \n",
    "#tensioni\n",
    "print(Y)\n",
    "print(I)\n",
    "V = np.linalg.solve(Y, I)\n",
    "\n",
    "tensioni_nodi = {n: V[i] for i, n in enumerate(nodi_variabili)}\n",
    "tensioni_nodi.update(generatori) "
   ]
  },
  {
   "cell_type": "code",
   "execution_count": 87,
   "metadata": {},
   "outputs": [],
   "source": [
    "correnti = {}\n",
    "for (n1, n2), r in resistenze.items():\n",
    "    V1, V2 = tensioni_nodi[n1], tensioni_nodi[n2]\n",
    "    I = (V1 - V2) / r  # Ohm: V = IR ⟹ I = V/R\n",
    "    correnti[(n1, n2)] = I\n",
    "\n"
   ]
  },
  {
   "cell_type": "code",
   "execution_count": 88,
   "metadata": {},
   "outputs": [
    {
     "name": "stdout",
     "output_type": "stream",
     "text": [
      "Potenziali ai nodi:\n",
      "  Nodo B: 2.572 V\n",
      "  Nodo C: 2.572 V\n",
      "  Nodo D: 0.000 V\n",
      "  Nodo A: 3.000 V\n",
      "  Nodo E: 0.000 V\n",
      "\n",
      "Correnti nei rami:\n",
      "  Corrente tra A e B: 0.002 A\n",
      "  Corrente tra A e C: 0.001 A\n",
      "  Corrente tra C e B: 0.000 A\n",
      "  Corrente tra B e D: 0.002 A\n",
      "  Corrente tra C e D: 0.001 A\n",
      "  Corrente tra D e E: 0.004 A\n"
     ]
    }
   ],
   "source": [
    "# Stampa dei risultati\n",
    "print(\"Potenziali ai nodi:\")\n",
    "for nodo, v in tensioni_nodi.items():\n",
    "    print(f\"  Nodo {nodo}: {v:.3f} V\")\n",
    "dV=tensioni_nodi[n1]-tensioni_nodi[n2]\n",
    "print(\"\\nCorrenti nei rami:\")\n",
    "for (n1, n2), i in correnti.items():\n",
    "    print(f\"  Corrente tra {n1} e {n2}: {i:.3f} A\")\n"
   ]
  },
  {
   "cell_type": "code",
   "execution_count": 89,
   "metadata": {},
   "outputs": [
    {
     "name": "stdout",
     "output_type": "stream",
     "text": [
      "['B', 'C', 'D']\n",
      "-G1\n"
     ]
    }
   ],
   "source": [
    "G0=sp.symbols('G0')\n",
    "G1=sp.symbols('G1')\n",
    "G2=sp.symbols('G2')\n",
    "G3=sp.symbols('G3')\n",
    "G4=sp.symbols('G4')\n",
    "G5=sp.symbols('G5')\n",
    "circuito = nx.Graph()\n",
    "resistenze = {\n",
    "    (\"A\",\"B\"): G1,\n",
    "    (\"A\",\"C\"): G3,\n",
    "    (\"B\",\"D\"): G2,\n",
    "    (\"C\",\"D\"): G4,\n",
    "    (\"D\",\"E\"): G0,\n",
    "    (\"B\",\"C\"): G5     \n",
    "}\n",
    "for (n1, n2), r in resistenze.items():\n",
    "    circuito.add_edge(n1, n2, resistance=r)\n",
    "\n",
    "generatori = {\n",
    "    \"A\": 22.6,  \n",
    "    \n",
    "    \"E\":0   \n",
    "}\n",
    "nodi_variabili = [n for n in circuito.nodes if n not in generatori]\n",
    "print(nodi_variabili)\n",
    "print(-1 * G1)\n"
   ]
  },
  {
   "cell_type": "code",
   "execution_count": 90,
   "metadata": {},
   "outputs": [
    {
     "name": "stdout",
     "output_type": "stream",
     "text": [
      "Matrice di ammettenza Y:\n",
      "⎡G₁ + G₂ + G₅      -G₅           -G₂     ⎤\n",
      "⎢                                        ⎥\n",
      "⎢    -G₅       G₃ + G₄ + G₅      -G₄     ⎥\n",
      "⎢                                        ⎥\n",
      "⎣    -G₂           -G₄       G₀ + G₂ + G₄⎦\n",
      "\n",
      "Determinante simbolico della matrice di ammettenza:\n",
      "G0*G1*G3 + G0*G1*G4 + G0*G1*G5 + G0*G2*G3 + G0*G2*G4 + G0*G2*G5 + G0*G3*G5 + G0*G4*G5 + G1*G2*G3 + G1*G2*G4 + G1*G2*G5 + G1*G3*G4 + G1*G4*G5 + G2*G3*G4 + G2*G3*G5 + G3*G4*G5\n"
     ]
    }
   ],
   "source": [
    "import sympy as sp\n",
    "import networkx as nx\n",
    "\n",
    "# Definizione dei simboli per le conduttanze\n",
    "G0, G1, G2, G3, G4, G5 = sp.symbols('G0 G1 G2 G3 G4 G5')\n",
    "\n",
    "# Creazione del grafo con conduttanze\n",
    "circuito = nx.Graph()\n",
    "conduttanze = {\n",
    "    (\"A\", \"B\"): G1,\n",
    "    (\"A\", \"C\"): G3,\n",
    "    (\"B\", \"D\"): G2,\n",
    "    (\"C\", \"D\"): G4,\n",
    "    (\"D\", \"E\"): G0,\n",
    "    (\"B\", \"C\"): G5     \n",
    "}\n",
    "\n",
    "# Aggiunta degli archi al grafo con attributo \"conductance\"\n",
    "for (n1, n2), G in conduttanze.items():\n",
    "    circuito.add_edge(n1, n2, conductance=G)\n",
    "\n",
    "# Definizione dei generatori di tensione\n",
    "generatori = {\n",
    "    \"A\": 22.6,  \n",
    "    \"E\": 0   \n",
    "}\n",
    "\n",
    "# Troviamo i nodi variabili (quelli che non hanno un generatore associato)\n",
    "nodi_variabili = [n for n in circuito.nodes if n not in generatori]\n",
    "\n",
    "# Creazione della matrice simbolica di ammettenza Y\n",
    "n = len(nodi_variabili)\n",
    "Y = sp.zeros(n, n)  # Matrice simbolica inizializzata a 0\n",
    "\n",
    "for i, nodo in enumerate(nodi_variabili):\n",
    "    somma_ammettenze = 0  # Per il termine diagonale\n",
    "    \n",
    "    for vicino in circuito.neighbors(nodo):\n",
    "        G = circuito[nodo][vicino]['conductance']  # Prendiamo la conduttanza assegnata al ramo\n",
    "        \n",
    "        if vicino in nodi_variabili:\n",
    "            j = nodi_variabili.index(vicino)\n",
    "            Y[i, j] = -G  # Termini fuori diagonale\n",
    "        \n",
    "        somma_ammettenze += G  # Somma delle conduttanze per il termine diagonale\n",
    "    \n",
    "    Y[i, i] = somma_ammettenze  # Termine diagonale\n",
    "\n",
    "# Stampiamo la matrice simbolica di ammettenza\n",
    "print(\"Matrice di ammettenza Y:\")\n",
    "sp.pprint(Y)\n",
    "\n",
    "# Calcoliamo il determinante simbolico di Y\n",
    "det_Y = Y.det()\n",
    "print(\"\\nDeterminante simbolico della matrice di ammettenza:\")\n",
    "print(det_Y)\n"
   ]
  },
  {
   "cell_type": "code",
   "execution_count": 91,
   "metadata": {},
   "outputs": [
    {
     "name": "stdout",
     "output_type": "stream",
     "text": [
      "0.0003597844660287172\n",
      "-0.010047579106214025\n"
     ]
    }
   ],
   "source": [
    "print(dV)\n",
    "dv= 100 * 10 ** -6\n",
    "us=(R2/R1) * (268-R3) * dv / 3 ** (0.5)\n",
    "print(us)"
   ]
  }
 ],
 "metadata": {
  "kernelspec": {
   "display_name": "pythonenv",
   "language": "python",
   "name": "python3"
  },
  "language_info": {
   "codemirror_mode": {
    "name": "ipython",
    "version": 3
   },
   "file_extension": ".py",
   "mimetype": "text/x-python",
   "name": "python",
   "nbconvert_exporter": "python",
   "pygments_lexer": "ipython3",
   "version": "3.8.10"
  }
 },
 "nbformat": 4,
 "nbformat_minor": 2
}
